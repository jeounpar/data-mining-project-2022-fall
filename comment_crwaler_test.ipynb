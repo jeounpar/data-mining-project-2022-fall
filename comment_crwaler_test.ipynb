{
 "cells": [
  {
   "cell_type": "code",
   "execution_count": 21,
   "metadata": {},
   "outputs": [
    {
     "name": "stderr",
     "output_type": "stream",
     "text": [
      "/var/folders/pt/07q4_g8x31x06mp93bfxbybw0000gn/T/ipykernel_4667/3237907382.py:13: DeprecationWarning: executable_path has been deprecated, please pass in a Service object\n",
      "  driver = webdriver.Chrome(\"/Users/park/Desktop/Assignment/IT집중교육/project/chromedriver\")\n"
     ]
    },
    {
     "ename": "KeyboardInterrupt",
     "evalue": "",
     "output_type": "error",
     "traceback": [
      "\u001b[0;31m---------------------------------------------------------------------------\u001b[0m",
      "\u001b[0;31mKeyboardInterrupt\u001b[0m                         Traceback (most recent call last)",
      "Cell \u001b[0;32mIn [21], line 38\u001b[0m\n\u001b[1;32m     36\u001b[0m \t\t\t\t\u001b[39mif\u001b[39;00m new_page_height \u001b[39m==\u001b[39m last_page_height:\n\u001b[1;32m     37\u001b[0m \t\t\t\t\t\t\u001b[39mbreak\u001b[39;00m\n\u001b[0;32m---> 38\u001b[0m scroll_down(driver\u001b[39m=\u001b[39;49mdriver, url_list\u001b[39m=\u001b[39;49murl_list)\n",
      "Cell \u001b[0;32mIn [21], line 33\u001b[0m, in \u001b[0;36mscroll_down\u001b[0;34m(driver, url_list)\u001b[0m\n\u001b[1;32m     31\u001b[0m \u001b[39mwhile\u001b[39;00m i \u001b[39m<\u001b[39m \u001b[39m30\u001b[39m:\n\u001b[1;32m     32\u001b[0m \t\tdriver\u001b[39m.\u001b[39mexecute_script(\u001b[39m\"\u001b[39m\u001b[39mwindow.scrollTo(0, document.documentElement.scrollHeight);\u001b[39m\u001b[39m\"\u001b[39m)\n\u001b[0;32m---> 33\u001b[0m \t\ttime\u001b[39m.\u001b[39;49msleep(\u001b[39m2\u001b[39;49m)\n\u001b[1;32m     34\u001b[0m \t\ti \u001b[39m+\u001b[39m\u001b[39m=\u001b[39m \u001b[39m1\u001b[39m\n\u001b[1;32m     35\u001b[0m \t\tnew_page_height \u001b[39m=\u001b[39m driver\u001b[39m.\u001b[39mexecute_script(\u001b[39m\"\u001b[39m\u001b[39mreturn document.documentElement.scrollHeight\u001b[39m\u001b[39m\"\u001b[39m)\n",
      "\u001b[0;31mKeyboardInterrupt\u001b[0m: "
     ]
    }
   ],
   "source": [
    "from bs4 import BeautifulSoup\n",
    "from selenium import webdriver\n",
    "from selenium.webdriver.common.keys import Keys\n",
    "from selenium.webdriver.common.by import By\n",
    "from tqdm import tqdm\n",
    "import time\n",
    "import re\n",
    "\n",
    "options = webdriver.ChromeOptions()\n",
    "options.add_argument(\"disable-gpu\") #그래픽 성능 낮춰서 크롤링 성능 쪼금 높이기\n",
    "options.add_argument(\"user-agent=Mozilla/5.0 (Macintosh; Intel Mac OS X 10_12_6) AppleWebKit/537.36 (KHTML, like Gecko) Chrome/61.0.3163.100 Safari/537.36\") # 네트워크 설정\n",
    "options.add_argument(\"lang=ko_KR\") # 사이트 주언어\n",
    "driver = webdriver.Chrome(\"/Users/park/Desktop/Assignment/IT집중교육/project/chromedriver\")\n",
    "\n",
    "data_list = []\n",
    "url_list = []\n",
    "url_list.append(\n",
    "\t\"https://www.youtube.com/watch?v=5JCpp0e_4gA&t=1637s&ab_channel=%EC%96%B4%ED%8D%BC%EC%BB%B7Tube\")\n",
    "url_list.append(\n",
    "\t\"https://www.youtube.com/watch?v=TXMtLF5OANI&ab_channel=%EC%96%B4%ED%8D%BC%EC%BB%B7Tube\")\n",
    "\n",
    "\n",
    "def (driver, url_list):\n",
    "\t# 스크롤 내리기\n",
    "\tfor url in url_list:\n",
    "\t\tdriver.get(url)\n",
    "\t\tbody = driver.find_elements(By.TAG_NAME, 'body')\n",
    "\t\t# driver.execute_script(\"window.scrollTo(0,1000)\")\n",
    "\t\tlast_page_height = driver.execute_script(\"return document.documentElement.scrollHeight\")\n",
    "\t\ti = 0\n",
    "\t\twhile i < 30:\n",
    "\t\t\tdriver.execute_script(\"window.scrollTo(0, document.documentElement.scrollHeight);\")\n",
    "\t\t\ttime.sleep(2)\n",
    "\t\t\ti += 1\n",
    "\t\t\tnew_page_height = driver.execute_script(\"return document.documentElement.scrollHeight\")\n",
    "\t\t\tif new_page_height == last_page_height:\n",
    "\t\t\t\tbreak\n",
    "\t\thtml0 = driver.page_source\n",
    "\t\thtml = BeautifulSoup(html0, 'html.parser')\n",
    "\t\tcomments_list = html.findAll('ytd-comment-thread-renderer', {'class': 'style-scope ytd-item-section-renderer'})\n",
    "scroll_down(driver=driver, url_list=url_list)"
   ]
  },
  {
   "cell_type": "code",
   "execution_count": 9,
   "metadata": {},
   "outputs": [],
   "source": [
    "# html0 = driver.page_source\n",
    "# html = BeautifulSoup(html0, 'html.parser')\n",
    "# comments_list = html.findAll('ytd-comment-thread-renderer', {'class': 'style-scope ytd-item-section-renderer'})"
   ]
  },
  {
   "cell_type": "code",
   "execution_count": 18,
   "metadata": {},
   "outputs": [],
   "source": [
    "for j in range(len(comments_list)):\n",
    "    ## 댓글 내용\n",
    "    comment = comments_list[j].find('yt-formatted-string', {'id': 'content-text'}).text\n",
    "    comment = comment.replace('\\n', '') # 줄 바뀜 없애기\n",
    "    comment = comment.replace('\\t', '') # 탭 줄이기\n",
    "\n",
    "    data = {'comment': comment}\n",
    "    data_list.append(data)\n",
    "    # print(data)"
   ]
  },
  {
   "cell_type": "code",
   "execution_count": 19,
   "metadata": {},
   "outputs": [
    {
     "ename": "InvalidSessionIdException",
     "evalue": "Message: invalid session id\nStacktrace:\n0   chromedriver                        0x0000000102c06f44 chromedriver + 3813188\n1   chromedriver                        0x0000000102b98ae0 chromedriver + 3361504\n2   chromedriver                        0x000000010289cb2c chromedriver + 232236\n3   chromedriver                        0x00000001028c2d68 chromedriver + 388456\n4   chromedriver                        0x00000001028e4c64 chromedriver + 527460\n5   chromedriver                        0x00000001028e4560 chromedriver + 525664\n6   chromedriver                        0x0000000102877078 chromedriver + 77944\n7   chromedriver                        0x0000000102bdae18 chromedriver + 3632664\n8   chromedriver                        0x0000000102bde97c chromedriver + 3647868\n9   chromedriver                        0x0000000102be4b58 chromedriver + 3672920\n10  chromedriver                        0x0000000102bdf350 chromedriver + 3650384\n11  chromedriver                        0x0000000102bbc8dc chromedriver + 3508444\n12  chromedriver                        0x000000010287618c chromedriver + 74124\n13  dyld                                0x000000010389d08c start + 520\n",
     "output_type": "error",
     "traceback": [
      "\u001b[0;31m---------------------------------------------------------------------------\u001b[0m",
      "\u001b[0;31mInvalidSessionIdException\u001b[0m                 Traceback (most recent call last)",
      "Cell \u001b[0;32mIn [19], line 6\u001b[0m\n\u001b[1;32m      2\u001b[0m result_df \u001b[39m=\u001b[39m pd\u001b[39m.\u001b[39mDataFrame(data_list,\n\u001b[1;32m      3\u001b[0m                          columns\u001b[39m=\u001b[39m[\u001b[39m'\u001b[39m\u001b[39mcomment\u001b[39m\u001b[39m'\u001b[39m,\u001b[39m'\u001b[39m\u001b[39myoutube_id\u001b[39m\u001b[39m'\u001b[39m,\u001b[39m'\u001b[39m\u001b[39mdate\u001b[39m\u001b[39m'\u001b[39m,\u001b[39m'\u001b[39m\u001b[39mlike_num\u001b[39m\u001b[39m'\u001b[39m])\n\u001b[1;32m      4\u001b[0m result_df\u001b[39m.\u001b[39mto_excel(\n\u001b[1;32m      5\u001b[0m     \u001b[39mf\u001b[39m\u001b[39m'\u001b[39m\u001b[39m/Users/park/Desktop/Assignment/IT집중교육/project/comment_youtube.xlsx\u001b[39m\u001b[39m'\u001b[39m, index\u001b[39m=\u001b[39m\u001b[39mFalse\u001b[39;00m)\n\u001b[0;32m----> 6\u001b[0m driver\u001b[39m.\u001b[39;49mclose()\n",
      "File \u001b[0;32m/opt/homebrew/lib/python3.10/site-packages/selenium/webdriver/remote/webdriver.py:551\u001b[0m, in \u001b[0;36mWebDriver.close\u001b[0;34m(self)\u001b[0m\n\u001b[1;32m    542\u001b[0m \u001b[39mdef\u001b[39;00m \u001b[39mclose\u001b[39m(\u001b[39mself\u001b[39m) \u001b[39m-\u001b[39m\u001b[39m>\u001b[39m \u001b[39mNone\u001b[39;00m:\n\u001b[1;32m    543\u001b[0m     \u001b[39m\"\"\"\u001b[39;00m\n\u001b[1;32m    544\u001b[0m \u001b[39m    Closes the current window.\u001b[39;00m\n\u001b[1;32m    545\u001b[0m \n\u001b[0;32m   (...)\u001b[0m\n\u001b[1;32m    549\u001b[0m \u001b[39m            driver.close()\u001b[39;00m\n\u001b[1;32m    550\u001b[0m \u001b[39m    \"\"\"\u001b[39;00m\n\u001b[0;32m--> 551\u001b[0m     \u001b[39mself\u001b[39;49m\u001b[39m.\u001b[39;49mexecute(Command\u001b[39m.\u001b[39;49mCLOSE)\n",
      "File \u001b[0;32m/opt/homebrew/lib/python3.10/site-packages/selenium/webdriver/remote/webdriver.py:429\u001b[0m, in \u001b[0;36mWebDriver.execute\u001b[0;34m(self, driver_command, params)\u001b[0m\n\u001b[1;32m    427\u001b[0m response \u001b[39m=\u001b[39m \u001b[39mself\u001b[39m\u001b[39m.\u001b[39mcommand_executor\u001b[39m.\u001b[39mexecute(driver_command, params)\n\u001b[1;32m    428\u001b[0m \u001b[39mif\u001b[39;00m response:\n\u001b[0;32m--> 429\u001b[0m     \u001b[39mself\u001b[39;49m\u001b[39m.\u001b[39;49merror_handler\u001b[39m.\u001b[39;49mcheck_response(response)\n\u001b[1;32m    430\u001b[0m     response[\u001b[39m'\u001b[39m\u001b[39mvalue\u001b[39m\u001b[39m'\u001b[39m] \u001b[39m=\u001b[39m \u001b[39mself\u001b[39m\u001b[39m.\u001b[39m_unwrap_value(\n\u001b[1;32m    431\u001b[0m         response\u001b[39m.\u001b[39mget(\u001b[39m'\u001b[39m\u001b[39mvalue\u001b[39m\u001b[39m'\u001b[39m, \u001b[39mNone\u001b[39;00m))\n\u001b[1;32m    432\u001b[0m     \u001b[39mreturn\u001b[39;00m response\n",
      "File \u001b[0;32m/opt/homebrew/lib/python3.10/site-packages/selenium/webdriver/remote/errorhandler.py:243\u001b[0m, in \u001b[0;36mErrorHandler.check_response\u001b[0;34m(self, response)\u001b[0m\n\u001b[1;32m    241\u001b[0m         alert_text \u001b[39m=\u001b[39m value[\u001b[39m'\u001b[39m\u001b[39malert\u001b[39m\u001b[39m'\u001b[39m]\u001b[39m.\u001b[39mget(\u001b[39m'\u001b[39m\u001b[39mtext\u001b[39m\u001b[39m'\u001b[39m)\n\u001b[1;32m    242\u001b[0m     \u001b[39mraise\u001b[39;00m exception_class(message, screen, stacktrace, alert_text)  \u001b[39m# type: ignore[call-arg]  # mypy is not smart enough here\u001b[39;00m\n\u001b[0;32m--> 243\u001b[0m \u001b[39mraise\u001b[39;00m exception_class(message, screen, stacktrace)\n",
      "\u001b[0;31mInvalidSessionIdException\u001b[0m: Message: invalid session id\nStacktrace:\n0   chromedriver                        0x0000000102c06f44 chromedriver + 3813188\n1   chromedriver                        0x0000000102b98ae0 chromedriver + 3361504\n2   chromedriver                        0x000000010289cb2c chromedriver + 232236\n3   chromedriver                        0x00000001028c2d68 chromedriver + 388456\n4   chromedriver                        0x00000001028e4c64 chromedriver + 527460\n5   chromedriver                        0x00000001028e4560 chromedriver + 525664\n6   chromedriver                        0x0000000102877078 chromedriver + 77944\n7   chromedriver                        0x0000000102bdae18 chromedriver + 3632664\n8   chromedriver                        0x0000000102bde97c chromedriver + 3647868\n9   chromedriver                        0x0000000102be4b58 chromedriver + 3672920\n10  chromedriver                        0x0000000102bdf350 chromedriver + 3650384\n11  chromedriver                        0x0000000102bbc8dc chromedriver + 3508444\n12  chromedriver                        0x000000010287618c chromedriver + 74124\n13  dyld                                0x000000010389d08c start + 520\n"
     ]
    }
   ],
   "source": [
    "import pandas as pd\n",
    "result_df = pd.DataFrame(data_list,\n",
    "                         columns=['comment','youtube_id','date','like_num'])\n",
    "result_df.to_excel(\n",
    "    f'/Users/park/Desktop/Assignment/IT집중교육/project/comment_youtube.xlsx', index=False)\n",
    "driver.close()"
   ]
  },
  {
   "cell_type": "code",
   "execution_count": null,
   "metadata": {},
   "outputs": [],
   "source": []
  }
 ],
 "metadata": {
  "kernelspec": {
   "display_name": "Python 3.10.7 64-bit",
   "language": "python",
   "name": "python3"
  },
  "language_info": {
   "codemirror_mode": {
    "name": "ipython",
    "version": 3
   },
   "file_extension": ".py",
   "mimetype": "text/x-python",
   "name": "python",
   "nbconvert_exporter": "python",
   "pygments_lexer": "ipython3",
   "version": "3.10.7"
  },
  "orig_nbformat": 4,
  "vscode": {
   "interpreter": {
    "hash": "b0fa6594d8f4cbf19f97940f81e996739fb7646882a419484c72d19e05852a7e"
   }
  }
 },
 "nbformat": 4,
 "nbformat_minor": 2
}
