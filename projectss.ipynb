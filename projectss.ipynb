{
 "cells": [
  {
   "cell_type": "code",
   "execution_count": 15,
   "metadata": {},
   "outputs": [],
   "source": [
    "from selenium import webdriver\n",
    "import time\n",
    "from openpyxl import Workbook\n",
    "import pandas as pd\n",
    "from selenium.webdriver.common.keys import Keys\n",
    "from selenium.webdriver.common.by import By\n",
    "from bs4 import BeautifulSoup\n",
    "\n",
    "import warnings\n",
    "warnings.filterwarnings('ignore')\n"
   ]
  },
  {
   "cell_type": "code",
   "execution_count": 10,
   "metadata": {},
   "outputs": [],
   "source": [
    "wb = Workbook(write_only=True)\n",
    "ws = wb.create_sheet()\n",
    "\n",
    "driver = webdriver.Chrome(\"/Users/park/Desktop/Assignment/IT집중교육/project/chromedriver\")\n",
    "driver.get(\"https://www.youtube.com/watch?v=9aHLkpOhvO8&ab_channel=movietrip%EB%AC%B4%EB%B9%84%ED%8A%B8%EB%A6%BD\")\n",
    "driver.implicitly_wait(3)\n",
    "\n",
    "time.sleep(1.5)\n",
    "\n",
    "driver.execute_script(\"window.scrollTo(0, 800)\")\n",
    "time.sleep(3)"
   ]
  },
  {
   "cell_type": "code",
   "execution_count": 11,
   "metadata": {},
   "outputs": [],
   "source": [
    "last_height = driver.execute_script(\"return document.documentElement.scrollHeight\")\n",
    "\n",
    "while True:\n",
    "    driver.execute_script(\"window.scrollTo(0, document.documentElement.scrollHeight);\")\n",
    "    time.sleep(1.5)\n",
    "\n",
    "    new_height = driver.execute_script(\"return document.documentElement.scrollHeight\")\n",
    "    if new_height == last_height:\n",
    "        break\n",
    "    last_height = new_height\n",
    "\n",
    "time.sleep(1.5)"
   ]
  },
  {
   "cell_type": "code",
   "execution_count": 12,
   "metadata": {},
   "outputs": [],
   "source": [
    "try:\n",
    "    driver.find_element_by_css_selector(\"#dismiss-button > a\").click()\n",
    "except:\n",
    "    pass"
   ]
  },
  {
   "cell_type": "code",
   "execution_count": 16,
   "metadata": {},
   "outputs": [
    {
     "ename": "ElementClickInterceptedException",
     "evalue": "Message: element click intercepted: Element <a class=\"yt-simple-endpoint style-scope ytd-button-renderer\" tabindex=\"-1\">...</a> is not clickable at point (116, 672). Other element would receive the click: <img id=\"img\" draggable=\"false\" class=\"style-scope yt-img-shadow\" alt=\"\" src=\"https://www.gstatic.com/youtube/img/promos/growth/6ad5a99c727579634bc3e2fb67562a2621170bdd11578967392667be5a05c5e4_384x384.png\">\n  (Session info: chrome=106.0.5249.103)\nStacktrace:\n0   chromedriver                        0x00000001052e2f44 chromedriver + 3813188\n1   chromedriver                        0x0000000105274ae0 chromedriver + 3361504\n2   chromedriver                        0x0000000104f78c5c chromedriver + 232540\n3   chromedriver                        0x0000000104fb074c chromedriver + 460620\n4   chromedriver                        0x0000000104fae8fc chromedriver + 452860\n5   chromedriver                        0x0000000104fac6b8 chromedriver + 444088\n6   chromedriver                        0x0000000104fab6fc chromedriver + 440060\n7   chromedriver                        0x0000000104fa0f58 chromedriver + 397144\n8   chromedriver                        0x0000000104fa0898 chromedriver + 395416\n9   chromedriver                        0x0000000104fd7f44 chromedriver + 622404\n10  chromedriver                        0x0000000104f9f358 chromedriver + 389976\n11  chromedriver                        0x0000000104fa0284 chromedriver + 393860\n12  chromedriver                        0x00000001052b6e18 chromedriver + 3632664\n13  chromedriver                        0x00000001052ba97c chromedriver + 3647868\n14  chromedriver                        0x00000001052c0b58 chromedriver + 3672920\n15  chromedriver                        0x00000001052bb350 chromedriver + 3650384\n16  chromedriver                        0x00000001052988dc chromedriver + 3508444\n17  chromedriver                        0x00000001052d5914 chromedriver + 3758356\n18  chromedriver                        0x00000001052d5a78 chromedriver + 3758712\n19  chromedriver                        0x00000001052e96cc chromedriver + 3839692\n20  libsystem_pthread.dylib             0x00000001a697826c _pthread_start + 148\n21  libsystem_pthread.dylib             0x00000001a697308c thread_start + 8\n",
     "output_type": "error",
     "traceback": [
      "\u001b[0;31m---------------------------------------------------------------------------\u001b[0m",
      "\u001b[0;31mElementClickInterceptedException\u001b[0m          Traceback (most recent call last)",
      "Cell \u001b[0;32mIn [16], line 8\u001b[0m\n\u001b[1;32m      6\u001b[0m button\u001b[39m.\u001b[39msend_keys(Keys\u001b[39m.\u001b[39mENTER)\n\u001b[1;32m      7\u001b[0m time\u001b[39m.\u001b[39msleep(\u001b[39m1.5\u001b[39m)\n\u001b[0;32m----> 8\u001b[0m button\u001b[39m.\u001b[39;49mclick()\n",
      "File \u001b[0;32m/opt/homebrew/lib/python3.10/site-packages/selenium/webdriver/remote/webelement.py:88\u001b[0m, in \u001b[0;36mWebElement.click\u001b[0;34m(self)\u001b[0m\n\u001b[1;32m     86\u001b[0m \u001b[39mdef\u001b[39;00m \u001b[39mclick\u001b[39m(\u001b[39mself\u001b[39m) \u001b[39m-\u001b[39m\u001b[39m>\u001b[39m \u001b[39mNone\u001b[39;00m:\n\u001b[1;32m     87\u001b[0m     \u001b[39m\"\"\"Clicks the element.\"\"\"\u001b[39;00m\n\u001b[0;32m---> 88\u001b[0m     \u001b[39mself\u001b[39;49m\u001b[39m.\u001b[39;49m_execute(Command\u001b[39m.\u001b[39;49mCLICK_ELEMENT)\n",
      "File \u001b[0;32m/opt/homebrew/lib/python3.10/site-packages/selenium/webdriver/remote/webelement.py:396\u001b[0m, in \u001b[0;36mWebElement._execute\u001b[0;34m(self, command, params)\u001b[0m\n\u001b[1;32m    394\u001b[0m     params \u001b[39m=\u001b[39m {}\n\u001b[1;32m    395\u001b[0m params[\u001b[39m'\u001b[39m\u001b[39mid\u001b[39m\u001b[39m'\u001b[39m] \u001b[39m=\u001b[39m \u001b[39mself\u001b[39m\u001b[39m.\u001b[39m_id\n\u001b[0;32m--> 396\u001b[0m \u001b[39mreturn\u001b[39;00m \u001b[39mself\u001b[39;49m\u001b[39m.\u001b[39;49m_parent\u001b[39m.\u001b[39;49mexecute(command, params)\n",
      "File \u001b[0;32m/opt/homebrew/lib/python3.10/site-packages/selenium/webdriver/remote/webdriver.py:429\u001b[0m, in \u001b[0;36mWebDriver.execute\u001b[0;34m(self, driver_command, params)\u001b[0m\n\u001b[1;32m    427\u001b[0m response \u001b[39m=\u001b[39m \u001b[39mself\u001b[39m\u001b[39m.\u001b[39mcommand_executor\u001b[39m.\u001b[39mexecute(driver_command, params)\n\u001b[1;32m    428\u001b[0m \u001b[39mif\u001b[39;00m response:\n\u001b[0;32m--> 429\u001b[0m     \u001b[39mself\u001b[39;49m\u001b[39m.\u001b[39;49merror_handler\u001b[39m.\u001b[39;49mcheck_response(response)\n\u001b[1;32m    430\u001b[0m     response[\u001b[39m'\u001b[39m\u001b[39mvalue\u001b[39m\u001b[39m'\u001b[39m] \u001b[39m=\u001b[39m \u001b[39mself\u001b[39m\u001b[39m.\u001b[39m_unwrap_value(\n\u001b[1;32m    431\u001b[0m         response\u001b[39m.\u001b[39mget(\u001b[39m'\u001b[39m\u001b[39mvalue\u001b[39m\u001b[39m'\u001b[39m, \u001b[39mNone\u001b[39;00m))\n\u001b[1;32m    432\u001b[0m     \u001b[39mreturn\u001b[39;00m response\n",
      "File \u001b[0;32m/opt/homebrew/lib/python3.10/site-packages/selenium/webdriver/remote/errorhandler.py:243\u001b[0m, in \u001b[0;36mErrorHandler.check_response\u001b[0;34m(self, response)\u001b[0m\n\u001b[1;32m    241\u001b[0m         alert_text \u001b[39m=\u001b[39m value[\u001b[39m'\u001b[39m\u001b[39malert\u001b[39m\u001b[39m'\u001b[39m]\u001b[39m.\u001b[39mget(\u001b[39m'\u001b[39m\u001b[39mtext\u001b[39m\u001b[39m'\u001b[39m)\n\u001b[1;32m    242\u001b[0m     \u001b[39mraise\u001b[39;00m exception_class(message, screen, stacktrace, alert_text)  \u001b[39m# type: ignore[call-arg]  # mypy is not smart enough here\u001b[39;00m\n\u001b[0;32m--> 243\u001b[0m \u001b[39mraise\u001b[39;00m exception_class(message, screen, stacktrace)\n",
      "\u001b[0;31mElementClickInterceptedException\u001b[0m: Message: element click intercepted: Element <a class=\"yt-simple-endpoint style-scope ytd-button-renderer\" tabindex=\"-1\">...</a> is not clickable at point (116, 672). Other element would receive the click: <img id=\"img\" draggable=\"false\" class=\"style-scope yt-img-shadow\" alt=\"\" src=\"https://www.gstatic.com/youtube/img/promos/growth/6ad5a99c727579634bc3e2fb67562a2621170bdd11578967392667be5a05c5e4_384x384.png\">\n  (Session info: chrome=106.0.5249.103)\nStacktrace:\n0   chromedriver                        0x00000001052e2f44 chromedriver + 3813188\n1   chromedriver                        0x0000000105274ae0 chromedriver + 3361504\n2   chromedriver                        0x0000000104f78c5c chromedriver + 232540\n3   chromedriver                        0x0000000104fb074c chromedriver + 460620\n4   chromedriver                        0x0000000104fae8fc chromedriver + 452860\n5   chromedriver                        0x0000000104fac6b8 chromedriver + 444088\n6   chromedriver                        0x0000000104fab6fc chromedriver + 440060\n7   chromedriver                        0x0000000104fa0f58 chromedriver + 397144\n8   chromedriver                        0x0000000104fa0898 chromedriver + 395416\n9   chromedriver                        0x0000000104fd7f44 chromedriver + 622404\n10  chromedriver                        0x0000000104f9f358 chromedriver + 389976\n11  chromedriver                        0x0000000104fa0284 chromedriver + 393860\n12  chromedriver                        0x00000001052b6e18 chromedriver + 3632664\n13  chromedriver                        0x00000001052ba97c chromedriver + 3647868\n14  chromedriver                        0x00000001052c0b58 chromedriver + 3672920\n15  chromedriver                        0x00000001052bb350 chromedriver + 3650384\n16  chromedriver                        0x00000001052988dc chromedriver + 3508444\n17  chromedriver                        0x00000001052d5914 chromedriver + 3758356\n18  chromedriver                        0x00000001052d5a78 chromedriver + 3758712\n19  chromedriver                        0x00000001052e96cc chromedriver + 3839692\n20  libsystem_pthread.dylib             0x00000001a697826c _pthread_start + 148\n21  libsystem_pthread.dylib             0x00000001a697308c thread_start + 8\n"
     ]
    }
   ],
   "source": [
    "buttons = driver.find_elements(By.CSS_SELECTOR,\"#more-replies > a\")\n",
    "\n",
    "time.sleep(1.5)\n",
    "\n",
    "for button in buttons:\n",
    "    button.send_keys(Keys.ENTER)\n",
    "    time.sleep(1.5)\n",
    "    button.click()"
   ]
  },
  {
   "cell_type": "code",
   "execution_count": 6,
   "metadata": {},
   "outputs": [],
   "source": [
    "html_source = driver.page_source\n",
    "soup = BeautifulSoup(html_source, 'html.parser')\n",
    "\n",
    "id_list = soup.select(\"div#header-author > h3 > #author-text > span\")\n",
    "comment_list = soup.select(\"yt-formatted-string#content-text\")\n",
    "\n",
    "id_final = []\n",
    "comment_final = []\n",
    "\n",
    "for i in range(len(comment_list)):\n",
    "    temp_id = id_list[i].text\n",
    "    temp_id = temp_id.replace('\\n', '')\n",
    "    temp_id = temp_id.replace('\\t', '')\n",
    "    temp_id = temp_id.replace('    ', '')\n",
    "    id_final.append(temp_id) # 댓글 작성자\n",
    "\n",
    "    temp_comment = comment_list[i].text\n",
    "    temp_comment = temp_comment.replace('\\n', '')\n",
    "    temp_comment = temp_comment.replace('\\t', '')\n",
    "    temp_comment = temp_comment.replace('    ', '')\n",
    "    comment_final.append(temp_comment) # 댓글 내용"
   ]
  },
  {
   "cell_type": "code",
   "execution_count": 7,
   "metadata": {},
   "outputs": [],
   "source": [
    "pd_data = {\"아이디\" : id_final , \"댓글 내용\" : comment_final}\n",
    "youtube_pd = pd.DataFrame(pd_data)\n",
    "\n",
    "youtube_pd.to_excel('result.xlsx')"
   ]
  }
 ],
 "metadata": {
  "kernelspec": {
   "display_name": "Python 3.10.7 64-bit",
   "language": "python",
   "name": "python3"
  },
  "language_info": {
   "codemirror_mode": {
    "name": "ipython",
    "version": 3
   },
   "file_extension": ".py",
   "mimetype": "text/x-python",
   "name": "python",
   "nbconvert_exporter": "python",
   "pygments_lexer": "ipython3",
   "version": "3.10.7"
  },
  "orig_nbformat": 4,
  "vscode": {
   "interpreter": {
    "hash": "b0fa6594d8f4cbf19f97940f81e996739fb7646882a419484c72d19e05852a7e"
   }
  }
 },
 "nbformat": 4,
 "nbformat_minor": 2
}
